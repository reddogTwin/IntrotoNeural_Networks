{
 "cells": [
  {
   "cell_type": "code",
   "execution_count": null,
   "id": "dc46830a",
   "metadata": {},
   "outputs": [],
   "source": [
    "#######################################################\n",
    "#######################################################\n",
    "############    COPYRIGHT - DATA SOCIETY   ############\n",
    "#######################################################\n",
    "#######################################################\n",
    "\n",
    "## INTROTONEURALNETWORKS/2 BUILDINGNEURALNETWORKS/INTROTONEURALNETWORKS BUILDINGNEURALNETWORKS 1 ##\n",
    "\n",
    "## NOTE: To run individual pieces of code, select the line of code and\n",
    "##       press ctrl + enter for PCs or command + enter for Macs"
   ]
  },
  {
   "cell_type": "code",
   "execution_count": 1,
   "id": "43d444e5-945c-4811-8ecd-310d4f6ab942",
   "metadata": {
    "tags": []
   },
   "outputs": [
    {
     "name": "stdout",
     "output_type": "stream",
     "text": [
      "Requirement already satisfied: black[juypter] in c:\\users\\steve.jamieson\\appdata\\local\\anaconda3\\lib\\site-packages (0.0)\n",
      "Requirement already satisfied: click>=8.0.0 in c:\\users\\steve.jamieson\\appdata\\local\\anaconda3\\lib\\site-packages (from black[juypter]) (8.0.4)\n",
      "Requirement already satisfied: mypy-extensions>=0.4.3 in c:\\users\\steve.jamieson\\appdata\\local\\anaconda3\\lib\\site-packages (from black[juypter]) (1.0.0)\n",
      "Requirement already satisfied: packaging>=22.0 in c:\\users\\steve.jamieson\\appdata\\local\\anaconda3\\lib\\site-packages (from black[juypter]) (23.1)\n",
      "Requirement already satisfied: pathspec>=0.9.0 in c:\\users\\steve.jamieson\\appdata\\local\\anaconda3\\lib\\site-packages (from black[juypter]) (0.10.3)\n",
      "Requirement already satisfied: platformdirs>=2 in c:\\users\\steve.jamieson\\appdata\\local\\anaconda3\\lib\\site-packages (from black[juypter]) (3.10.0)\n",
      "Requirement already satisfied: colorama in c:\\users\\steve.jamieson\\appdata\\local\\anaconda3\\lib\\site-packages (from click>=8.0.0->black[juypter]) (0.4.6)\n",
      "Note: you may need to restart the kernel to use updated packages.\n"
     ]
    },
    {
     "name": "stderr",
     "output_type": "stream",
     "text": [
      "WARNING: black 0.0 does not provide the extra 'juypter'\n"
     ]
    }
   ],
   "source": [
    "%pip install black[juypter]"
   ]
  },
  {
   "cell_type": "code",
   "execution_count": 3,
   "id": "21f59419-5a90-41ec-8c35-f0baa817a981",
   "metadata": {
    "tags": []
   },
   "outputs": [
    {
     "name": "stderr",
     "output_type": "stream",
     "text": [
      "Skipping .ipynb files as Jupyter dependencies are not installed.\n",
      "You can fix this by running ``pip install \"black[jupyter]\"``\n",
      "No Python files are present to be formatted. Nothing to do \\U0001f634\n"
     ]
    }
   ],
   "source": [
    "! black ."
   ]
  },
  {
   "cell_type": "code",
   "execution_count": 7,
   "id": "73f78354",
   "metadata": {
    "tags": []
   },
   "outputs": [
    {
     "name": "stdout",
     "output_type": "stream",
     "text": [
      "C:\\Users\\steve.jamieson\\git\\IntrotoNeural_Networks\n",
      "C:\\Users\\steve.jamieson\\git\\IntrotoNeural_Networks/data\n"
     ]
    }
   ],
   "source": [
    "# =================================================-\n",
    "#### Slide 5: Directory settings  ####\n",
    "\n",
    "# Set 'main_dir' to location of the project folder\n",
    "from pathlib import Path\n",
    "\n",
    "home_dir = Path(\".\").resolve()\n",
    "main_dir = home_dir.parent.parent\n",
    "print(main_dir)\n",
    "data_dir = str(main_dir) + \"/data\"\n",
    "print(data_dir)"
   ]
  },
  {
   "cell_type": "code",
   "execution_count": 13,
   "id": "368bdcbe-fcc6-4a6f-bb61-a11aea0e3133",
   "metadata": {
    "tags": []
   },
   "outputs": [],
   "source": [
    "# Prefeered way of getting path info\n",
    "proj_dir = Path.cwd().parent.parent"
   ]
  },
  {
   "cell_type": "code",
   "execution_count": 31,
   "id": "61bc1af4-8d63-4e23-b680-639825f240b3",
   "metadata": {
    "tags": []
   },
   "outputs": [
    {
     "data": {
      "text/plain": [
       "WindowsPath('C:/Users/steve.jamieson/git/IntrotoNeural_Networks/data')"
      ]
     },
     "execution_count": 31,
     "metadata": {},
     "output_type": "execute_result"
    }
   ],
   "source": [
    "data_dir = proj_dir / \"data\"\n",
    "data_dir"
   ]
  },
  {
   "cell_type": "code",
   "execution_count": 26,
   "id": "886f3a43-0a63-42d6-9c57-eb19dec6fbd3",
   "metadata": {
    "tags": []
   },
   "outputs": [
    {
     "data": {
      "text/plain": [
       "WindowsPath('C:/Users/steve.jamieson/git/IntrotoNeural_Networks')"
      ]
     },
     "execution_count": 26,
     "metadata": {},
     "output_type": "execute_result"
    }
   ],
   "source": [
    "home_dir = proj_dir \n",
    "home_dir"
   ]
  },
  {
   "cell_type": "code",
   "execution_count": 32,
   "id": "b8ce176d-1638-4b4e-8daf-f74b221f8991",
   "metadata": {
    "tags": []
   },
   "outputs": [
    {
     "ename": "AttributeError",
     "evalue": "'WindowsPath' object has no attribute 'exist'",
     "output_type": "error",
     "traceback": [
      "\u001b[1;31m---------------------------------------------------------------------------\u001b[0m",
      "\u001b[1;31mAttributeError\u001b[0m                            Traceback (most recent call last)",
      "Cell \u001b[1;32mIn[32], line 1\u001b[0m\n\u001b[1;32m----> 1\u001b[0m data_dir\u001b[38;5;241m.\u001b[39mexist()\n",
      "\u001b[1;31mAttributeError\u001b[0m: 'WindowsPath' object has no attribute 'exist'"
     ]
    }
   ],
   "source": [
    "data_dir.exist()"
   ]
  },
  {
   "cell_type": "code",
   "execution_count": 33,
   "id": "2a0a772a-bba2-4a19-ba13-91af6713e573",
   "metadata": {
    "tags": []
   },
   "outputs": [
    {
     "data": {
      "text/plain": [
       "WindowsPath('C:/Users/steve.jamieson')"
      ]
     },
     "execution_count": 33,
     "metadata": {},
     "output_type": "execute_result"
    }
   ],
   "source": [
    "# getting home directory \n",
    "Path.home()"
   ]
  },
  {
   "cell_type": "code",
   "execution_count": 34,
   "id": "eb725552",
   "metadata": {
    "tags": []
   },
   "outputs": [],
   "source": [
    "# =================================================-\n",
    "#### Slide 6: Loading packages  ####\n",
    "\n",
    "# Helper packages.\n",
    "import os\n",
    "import matplotlib.pyplot as plt\n",
    "import numpy as np\n",
    "import pandas as pd\n",
    "import pickle\n",
    "from textwrap import wrap\n",
    "\n",
    "# Scikit-learn package for building a perceptron.\n",
    "from sklearn.neural_network import MLPClassifier\n",
    "\n",
    "# Scikit-learn package for data preprocessing.\n",
    "from sklearn.preprocessing import MinMaxScaler\n",
    "\n",
    "# Model set up, tuning and model metrics packages.\n",
    "from sklearn.model_selection import train_test_split\n",
    "from sklearn.metrics import accuracy_score\n",
    "from sklearn import preprocessing\n",
    "from sklearn import metrics\n",
    "from sklearn.model_selection import GridSearchCV"
   ]
  },
  {
   "cell_type": "code",
   "execution_count": 38,
   "id": "37f46c16-91be-47fa-923d-afa74fc399d7",
   "metadata": {
    "tags": []
   },
   "outputs": [
    {
     "ename": "FileNotFoundError",
     "evalue": "[Errno 2] No such file or directory: 'C:\\\\credit_card_data.csv'",
     "output_type": "error",
     "traceback": [
      "\u001b[1;31m---------------------------------------------------------------------------\u001b[0m",
      "\u001b[1;31mFileNotFoundError\u001b[0m                         Traceback (most recent call last)",
      "Cell \u001b[1;32mIn[38], line 3\u001b[0m\n\u001b[0;32m      1\u001b[0m \u001b[38;5;28;01mfrom\u001b[39;00m \u001b[38;5;21;01mpathlib\u001b[39;00m \u001b[38;5;28;01mimport\u001b[39;00m Path\n\u001b[0;32m      2\u001b[0m data_dir\n\u001b[1;32m----> 3\u001b[0m credit_card \u001b[38;5;241m=\u001b[39m pd\u001b[38;5;241m.\u001b[39mread_csv(data_dir \u001b[38;5;241m/\u001b[39m \u001b[38;5;124m\"\u001b[39m\u001b[38;5;124m/credit_card_data.csv\u001b[39m\u001b[38;5;124m\"\u001b[39m)\n\u001b[0;32m      4\u001b[0m credit_card\u001b[38;5;241m.\u001b[39mhead()\n",
      "File \u001b[1;32m~\\AppData\\Local\\anaconda3\\Lib\\site-packages\\pandas\\io\\parsers\\readers.py:912\u001b[0m, in \u001b[0;36mread_csv\u001b[1;34m(filepath_or_buffer, sep, delimiter, header, names, index_col, usecols, dtype, engine, converters, true_values, false_values, skipinitialspace, skiprows, skipfooter, nrows, na_values, keep_default_na, na_filter, verbose, skip_blank_lines, parse_dates, infer_datetime_format, keep_date_col, date_parser, date_format, dayfirst, cache_dates, iterator, chunksize, compression, thousands, decimal, lineterminator, quotechar, quoting, doublequote, escapechar, comment, encoding, encoding_errors, dialect, on_bad_lines, delim_whitespace, low_memory, memory_map, float_precision, storage_options, dtype_backend)\u001b[0m\n\u001b[0;32m    899\u001b[0m kwds_defaults \u001b[38;5;241m=\u001b[39m _refine_defaults_read(\n\u001b[0;32m    900\u001b[0m     dialect,\n\u001b[0;32m    901\u001b[0m     delimiter,\n\u001b[1;32m   (...)\u001b[0m\n\u001b[0;32m    908\u001b[0m     dtype_backend\u001b[38;5;241m=\u001b[39mdtype_backend,\n\u001b[0;32m    909\u001b[0m )\n\u001b[0;32m    910\u001b[0m kwds\u001b[38;5;241m.\u001b[39mupdate(kwds_defaults)\n\u001b[1;32m--> 912\u001b[0m \u001b[38;5;28;01mreturn\u001b[39;00m _read(filepath_or_buffer, kwds)\n",
      "File \u001b[1;32m~\\AppData\\Local\\anaconda3\\Lib\\site-packages\\pandas\\io\\parsers\\readers.py:577\u001b[0m, in \u001b[0;36m_read\u001b[1;34m(filepath_or_buffer, kwds)\u001b[0m\n\u001b[0;32m    574\u001b[0m _validate_names(kwds\u001b[38;5;241m.\u001b[39mget(\u001b[38;5;124m\"\u001b[39m\u001b[38;5;124mnames\u001b[39m\u001b[38;5;124m\"\u001b[39m, \u001b[38;5;28;01mNone\u001b[39;00m))\n\u001b[0;32m    576\u001b[0m \u001b[38;5;66;03m# Create the parser.\u001b[39;00m\n\u001b[1;32m--> 577\u001b[0m parser \u001b[38;5;241m=\u001b[39m TextFileReader(filepath_or_buffer, \u001b[38;5;241m*\u001b[39m\u001b[38;5;241m*\u001b[39mkwds)\n\u001b[0;32m    579\u001b[0m \u001b[38;5;28;01mif\u001b[39;00m chunksize \u001b[38;5;129;01mor\u001b[39;00m iterator:\n\u001b[0;32m    580\u001b[0m     \u001b[38;5;28;01mreturn\u001b[39;00m parser\n",
      "File \u001b[1;32m~\\AppData\\Local\\anaconda3\\Lib\\site-packages\\pandas\\io\\parsers\\readers.py:1407\u001b[0m, in \u001b[0;36mTextFileReader.__init__\u001b[1;34m(self, f, engine, **kwds)\u001b[0m\n\u001b[0;32m   1404\u001b[0m     \u001b[38;5;28mself\u001b[39m\u001b[38;5;241m.\u001b[39moptions[\u001b[38;5;124m\"\u001b[39m\u001b[38;5;124mhas_index_names\u001b[39m\u001b[38;5;124m\"\u001b[39m] \u001b[38;5;241m=\u001b[39m kwds[\u001b[38;5;124m\"\u001b[39m\u001b[38;5;124mhas_index_names\u001b[39m\u001b[38;5;124m\"\u001b[39m]\n\u001b[0;32m   1406\u001b[0m \u001b[38;5;28mself\u001b[39m\u001b[38;5;241m.\u001b[39mhandles: IOHandles \u001b[38;5;241m|\u001b[39m \u001b[38;5;28;01mNone\u001b[39;00m \u001b[38;5;241m=\u001b[39m \u001b[38;5;28;01mNone\u001b[39;00m\n\u001b[1;32m-> 1407\u001b[0m \u001b[38;5;28mself\u001b[39m\u001b[38;5;241m.\u001b[39m_engine \u001b[38;5;241m=\u001b[39m \u001b[38;5;28mself\u001b[39m\u001b[38;5;241m.\u001b[39m_make_engine(f, \u001b[38;5;28mself\u001b[39m\u001b[38;5;241m.\u001b[39mengine)\n",
      "File \u001b[1;32m~\\AppData\\Local\\anaconda3\\Lib\\site-packages\\pandas\\io\\parsers\\readers.py:1661\u001b[0m, in \u001b[0;36mTextFileReader._make_engine\u001b[1;34m(self, f, engine)\u001b[0m\n\u001b[0;32m   1659\u001b[0m     \u001b[38;5;28;01mif\u001b[39;00m \u001b[38;5;124m\"\u001b[39m\u001b[38;5;124mb\u001b[39m\u001b[38;5;124m\"\u001b[39m \u001b[38;5;129;01mnot\u001b[39;00m \u001b[38;5;129;01min\u001b[39;00m mode:\n\u001b[0;32m   1660\u001b[0m         mode \u001b[38;5;241m+\u001b[39m\u001b[38;5;241m=\u001b[39m \u001b[38;5;124m\"\u001b[39m\u001b[38;5;124mb\u001b[39m\u001b[38;5;124m\"\u001b[39m\n\u001b[1;32m-> 1661\u001b[0m \u001b[38;5;28mself\u001b[39m\u001b[38;5;241m.\u001b[39mhandles \u001b[38;5;241m=\u001b[39m get_handle(\n\u001b[0;32m   1662\u001b[0m     f,\n\u001b[0;32m   1663\u001b[0m     mode,\n\u001b[0;32m   1664\u001b[0m     encoding\u001b[38;5;241m=\u001b[39m\u001b[38;5;28mself\u001b[39m\u001b[38;5;241m.\u001b[39moptions\u001b[38;5;241m.\u001b[39mget(\u001b[38;5;124m\"\u001b[39m\u001b[38;5;124mencoding\u001b[39m\u001b[38;5;124m\"\u001b[39m, \u001b[38;5;28;01mNone\u001b[39;00m),\n\u001b[0;32m   1665\u001b[0m     compression\u001b[38;5;241m=\u001b[39m\u001b[38;5;28mself\u001b[39m\u001b[38;5;241m.\u001b[39moptions\u001b[38;5;241m.\u001b[39mget(\u001b[38;5;124m\"\u001b[39m\u001b[38;5;124mcompression\u001b[39m\u001b[38;5;124m\"\u001b[39m, \u001b[38;5;28;01mNone\u001b[39;00m),\n\u001b[0;32m   1666\u001b[0m     memory_map\u001b[38;5;241m=\u001b[39m\u001b[38;5;28mself\u001b[39m\u001b[38;5;241m.\u001b[39moptions\u001b[38;5;241m.\u001b[39mget(\u001b[38;5;124m\"\u001b[39m\u001b[38;5;124mmemory_map\u001b[39m\u001b[38;5;124m\"\u001b[39m, \u001b[38;5;28;01mFalse\u001b[39;00m),\n\u001b[0;32m   1667\u001b[0m     is_text\u001b[38;5;241m=\u001b[39mis_text,\n\u001b[0;32m   1668\u001b[0m     errors\u001b[38;5;241m=\u001b[39m\u001b[38;5;28mself\u001b[39m\u001b[38;5;241m.\u001b[39moptions\u001b[38;5;241m.\u001b[39mget(\u001b[38;5;124m\"\u001b[39m\u001b[38;5;124mencoding_errors\u001b[39m\u001b[38;5;124m\"\u001b[39m, \u001b[38;5;124m\"\u001b[39m\u001b[38;5;124mstrict\u001b[39m\u001b[38;5;124m\"\u001b[39m),\n\u001b[0;32m   1669\u001b[0m     storage_options\u001b[38;5;241m=\u001b[39m\u001b[38;5;28mself\u001b[39m\u001b[38;5;241m.\u001b[39moptions\u001b[38;5;241m.\u001b[39mget(\u001b[38;5;124m\"\u001b[39m\u001b[38;5;124mstorage_options\u001b[39m\u001b[38;5;124m\"\u001b[39m, \u001b[38;5;28;01mNone\u001b[39;00m),\n\u001b[0;32m   1670\u001b[0m )\n\u001b[0;32m   1671\u001b[0m \u001b[38;5;28;01massert\u001b[39;00m \u001b[38;5;28mself\u001b[39m\u001b[38;5;241m.\u001b[39mhandles \u001b[38;5;129;01mis\u001b[39;00m \u001b[38;5;129;01mnot\u001b[39;00m \u001b[38;5;28;01mNone\u001b[39;00m\n\u001b[0;32m   1672\u001b[0m f \u001b[38;5;241m=\u001b[39m \u001b[38;5;28mself\u001b[39m\u001b[38;5;241m.\u001b[39mhandles\u001b[38;5;241m.\u001b[39mhandle\n",
      "File \u001b[1;32m~\\AppData\\Local\\anaconda3\\Lib\\site-packages\\pandas\\io\\common.py:859\u001b[0m, in \u001b[0;36mget_handle\u001b[1;34m(path_or_buf, mode, encoding, compression, memory_map, is_text, errors, storage_options)\u001b[0m\n\u001b[0;32m    854\u001b[0m \u001b[38;5;28;01melif\u001b[39;00m \u001b[38;5;28misinstance\u001b[39m(handle, \u001b[38;5;28mstr\u001b[39m):\n\u001b[0;32m    855\u001b[0m     \u001b[38;5;66;03m# Check whether the filename is to be opened in binary mode.\u001b[39;00m\n\u001b[0;32m    856\u001b[0m     \u001b[38;5;66;03m# Binary mode does not support 'encoding' and 'newline'.\u001b[39;00m\n\u001b[0;32m    857\u001b[0m     \u001b[38;5;28;01mif\u001b[39;00m ioargs\u001b[38;5;241m.\u001b[39mencoding \u001b[38;5;129;01mand\u001b[39;00m \u001b[38;5;124m\"\u001b[39m\u001b[38;5;124mb\u001b[39m\u001b[38;5;124m\"\u001b[39m \u001b[38;5;129;01mnot\u001b[39;00m \u001b[38;5;129;01min\u001b[39;00m ioargs\u001b[38;5;241m.\u001b[39mmode:\n\u001b[0;32m    858\u001b[0m         \u001b[38;5;66;03m# Encoding\u001b[39;00m\n\u001b[1;32m--> 859\u001b[0m         handle \u001b[38;5;241m=\u001b[39m \u001b[38;5;28mopen\u001b[39m(\n\u001b[0;32m    860\u001b[0m             handle,\n\u001b[0;32m    861\u001b[0m             ioargs\u001b[38;5;241m.\u001b[39mmode,\n\u001b[0;32m    862\u001b[0m             encoding\u001b[38;5;241m=\u001b[39mioargs\u001b[38;5;241m.\u001b[39mencoding,\n\u001b[0;32m    863\u001b[0m             errors\u001b[38;5;241m=\u001b[39merrors,\n\u001b[0;32m    864\u001b[0m             newline\u001b[38;5;241m=\u001b[39m\u001b[38;5;124m\"\u001b[39m\u001b[38;5;124m\"\u001b[39m,\n\u001b[0;32m    865\u001b[0m         )\n\u001b[0;32m    866\u001b[0m     \u001b[38;5;28;01melse\u001b[39;00m:\n\u001b[0;32m    867\u001b[0m         \u001b[38;5;66;03m# Binary mode\u001b[39;00m\n\u001b[0;32m    868\u001b[0m         handle \u001b[38;5;241m=\u001b[39m \u001b[38;5;28mopen\u001b[39m(handle, ioargs\u001b[38;5;241m.\u001b[39mmode)\n",
      "\u001b[1;31mFileNotFoundError\u001b[0m: [Errno 2] No such file or directory: 'C:\\\\credit_card_data.csv'"
     ]
    }
   ],
   "source": [
    "from pathlib import Path\n",
    "data_dir\n",
    "credit_card = pd.read_csv(data_dir / \"/credit_card_data.csv\")\n",
    "credit_card.head()\n"
   ]
  },
  {
   "cell_type": "code",
   "execution_count": null,
   "id": "8cfde2b8-88b9-4a51-abfe-f4e6f9a6c399",
   "metadata": {},
   "outputs": [],
   "source": [
    "credit_card = pd.read_csv(data_dir / \"/credit_card_data.csv\")\n",
    "credit_card.head()"
   ]
  },
  {
   "cell_type": "code",
   "execution_count": null,
   "id": "8538c896",
   "metadata": {
    "tags": []
   },
   "outputs": [],
   "source": [
    "# =================================================-\n",
    "#### Slide 7: Load the data  ####\n",
    "\n",
    "credit_card = pd.read_csv(data_dir / \"/credit_card_data.csv\")\n",
    "credit_card.head()\n"
   ]
  },
  {
   "cell_type": "code",
   "execution_count": null,
   "id": "e8b9af91",
   "metadata": {},
   "outputs": [],
   "source": [
    "# =================================================-\n",
    "#### Slide 9: Data at first glance  ####\n",
    "\n",
    "# The data types.\n",
    "print(credit_card.dtypes)"
   ]
  },
  {
   "cell_type": "code",
   "execution_count": null,
   "id": "d9bac3dc",
   "metadata": {},
   "outputs": [],
   "source": [
    "# =================================================-\n",
    "#### Slide 10: Check for NAs in the dataset  ####\n",
    "\n",
    "# Check for NAs.\n",
    "print(credit_card.isnull().sum())"
   ]
  },
  {
   "cell_type": "code",
   "execution_count": null,
   "id": "34125f11",
   "metadata": {},
   "outputs": [],
   "source": [
    "# =================================================-\n",
    "#### Slide 11: Using fillna() to handle missing values  ####\n",
    "\n",
    "# Fill missing values with mean\n",
    "credit_card = credit_card.fillna(credit_card.mean()[\"BILL_AMT1\"])\n",
    "# Check for NAs in 'BILL_AMT1'.\n",
    "print(credit_card.isnull().sum()[\"BILL_AMT1\"])\n",
    "# Drop an unnecessary identifier column.\n",
    "credit_card = credit_card.drop(\"ID\", axis=1)"
   ]
  },
  {
   "cell_type": "code",
   "execution_count": null,
   "id": "d4808e61",
   "metadata": {},
   "outputs": [],
   "source": [
    "# =================================================-\n",
    "#### Slide 15: Transform and replace categorical variables  ####\n",
    "\n",
    "# Convert 'sex' into dummy variables.\n",
    "sex = pd.get_dummies(credit_card[\"SEX\"], prefix=\"sex\", drop_first=True)\n",
    "# Convert 'education' into dummy variables.\n",
    "education = pd.get_dummies(\n",
    "    credit_card[\"EDUCATION\"], prefix=\"education\", drop_first=True\n",
    ")\n",
    "# Convert 'marriage' into dummy variables.\n",
    "marriage = pd.get_dummies(credit_card[\"MARRIAGE\"], prefix=\"marriage\", drop_first=True)\n",
    "# Drop `sex`, `education`, `marriage` from the data.\n",
    "credit_card.drop([\"SEX\", \"EDUCATION\", \"MARRIAGE\"], axis=1, inplace=True)\n",
    "# Concatenate `sex`, `education`, `marriage` dummies to our dataset.\n",
    "credit_card = pd.concat([credit_card, sex, education, marriage], axis=1)\n",
    "print(credit_card.head())"
   ]
  },
  {
   "cell_type": "code",
   "execution_count": null,
   "id": "323433b7",
   "metadata": {},
   "outputs": [],
   "source": [
    "# =================================================-\n",
    "#### Slide 16: Data prep: split  ####\n",
    "\n",
    "# Separate predictors from data.\n",
    "X = credit_card.drop([\"default_payment_next_month\"], axis=1)\n",
    "\n",
    "# Separate target from data.\n",
    "y = credit_card[\"default_payment_next_month\"]\n",
    "# Split data into train and test set, use a 70 - 30 split.\n",
    "X_train, X_test, y_train, y_test = train_test_split(\n",
    "    X.values, y, test_size=0.3, random_state=1\n",
    ")\n",
    "\n",
    "print(\"Train shape:\", X_train.shape, \"Test shape:\", X_test.shape)"
   ]
  },
  {
   "cell_type": "code",
   "execution_count": null,
   "id": "9f9263c7",
   "metadata": {},
   "outputs": [],
   "source": [
    "# =================================================-\n",
    "#### Slide 17: Data prep: scale with MinMaxScaler  ####\n",
    "\n",
    "# Transforms each feature to a given range.\n",
    "# The default is the range between 0 and 1.\n",
    "min_max_scaler = preprocessing.MinMaxScaler()\n",
    "X_train_scaled = min_max_scaler.fit_transform(X_train)\n",
    "X_test_scaled = min_max_scaler.transform(X_test)\n",
    "\n",
    "\n",
    "#######################################################\n",
    "####  CONGRATULATIONS ON COMPLETING THIS MODULE!   ####\n",
    "#######################################################"
   ]
  },
  {
   "cell_type": "code",
   "execution_count": null,
   "id": "f9886e1d",
   "metadata": {},
   "outputs": [],
   "source": [
    "#######################################################\n",
    "#######################################################\n",
    "############    COPYRIGHT - DATA SOCIETY   ############\n",
    "#######################################################\n",
    "#######################################################\n",
    "\n",
    "## INTROTONEURALNETWORKS/2 BUILDINGNEURALNETWORKS/INTROTONEURALNETWORKS BUILDINGNEURALNETWORKS 2 ##\n",
    "\n",
    "## NOTE: To run individual pieces of code, select the line of code and\n",
    "##       press ctrl + enter for PCs or command + enter for Macs"
   ]
  },
  {
   "cell_type": "code",
   "execution_count": null,
   "id": "489ac95b",
   "metadata": {},
   "outputs": [],
   "source": [
    "# =================================================-\n",
    "#### Slide 2: Build the model architecture  ####\n",
    "\n",
    "# Build neural network model\n",
    "nn = MLPClassifier(\n",
    "    hidden_layer_sizes=(64), random_state=1  # <- 64 neurons for hidden layer\n",
    ")  # <- set seed to 1"
   ]
  },
  {
   "cell_type": "code",
   "execution_count": null,
   "id": "f535dc07",
   "metadata": {},
   "outputs": [],
   "source": [
    "# =================================================-\n",
    "#### Slide 3: Fit the model to training data  ####\n",
    "\n",
    "# Fit the saved model to your training data.\n",
    "fit_nn = nn.fit(X_train_scaled, y_train)"
   ]
  },
  {
   "cell_type": "code",
   "execution_count": null,
   "id": "8c8c41ee",
   "metadata": {},
   "outputs": [],
   "source": [
    "# =================================================-\n",
    "#### Slide 4: Inspect accuracy of training model  ####\n",
    "\n",
    "# Compute accuracy using training data.\n",
    "acc_train_nn = fit_nn.score(X_train_scaled, y_train)\n",
    "print(\"Train Accuracy:\", acc_train_nn)"
   ]
  },
  {
   "cell_type": "code",
   "execution_count": null,
   "id": "20222574",
   "metadata": {},
   "outputs": [],
   "source": [
    "# =================================================-\n",
    "#### Slide 10: Predict on test data  ####\n",
    "\n",
    "# Predict on test data.\n",
    "predicted_values_nn = fit_nn.predict(X_test_scaled)\n",
    "print(predicted_values_nn)\n",
    "\n",
    "# Compute test model accuracy score.\n",
    "test_accuracy_score = metrics.accuracy_score(y_test, predicted_values_nn)\n",
    "print(\"Accuracy on test data: \", test_accuracy_score)"
   ]
  },
  {
   "cell_type": "code",
   "execution_count": null,
   "id": "7847954d",
   "metadata": {},
   "outputs": [],
   "source": [
    "# =================================================-\n",
    "#### Slide 11: Confusion matrix   ####\n",
    "\n",
    "# Take a look at test data confusion matrix.\n",
    "conf_matrix_test = metrics.confusion_matrix(y_test, predicted_values_nn)\n",
    "print(conf_matrix_test)"
   ]
  },
  {
   "cell_type": "code",
   "execution_count": null,
   "id": "6f1a473a",
   "metadata": {},
   "outputs": [],
   "source": [
    "# =================================================-\n",
    "#### Slide 19: Classification report  ####\n",
    "\n",
    "# Create a list of target names to interpret class assignments.\n",
    "target_names = [\"default_payment_0\", \"default_payment_1\"]\n",
    "# Print an entire classification report.\n",
    "class_report = metrics.classification_report(\n",
    "    y_test, predicted_values_nn, target_names=target_names\n",
    ")\n",
    "print(class_report)"
   ]
  },
  {
   "cell_type": "code",
   "execution_count": null,
   "id": "cb6c2dc9",
   "metadata": {},
   "outputs": [],
   "source": [
    "# =================================================-\n",
    "#### Slide 22: Getting probabilities instead of class labels  ####\n",
    "\n",
    "# Get probabilities instead of predicted values.\n",
    "test_probabilities = fit_nn.predict_proba(X_test_scaled)\n",
    "\n",
    "# Get probabilities of test predictions only.\n",
    "test_predictions = test_probabilities[:, 1]"
   ]
  },
  {
   "cell_type": "code",
   "execution_count": null,
   "id": "2025b004",
   "metadata": {},
   "outputs": [],
   "source": [
    "# =================================================-\n",
    "#### Slide 23: Computing FPR, TPR, and threshold  ####\n",
    "\n",
    "# Get FPR, TPR, and threshold values.\n",
    "fpr, tpr, threshold = metrics.roc_curve(\n",
    "    y_test, test_predictions  # <- test data labels\n",
    ")  # <- predicted probabilities\n",
    "print(\"False positive: \", fpr)\n",
    "print(\"True positive: \", tpr)\n",
    "print(\"Threshold: \", threshold)"
   ]
  },
  {
   "cell_type": "code",
   "execution_count": null,
   "id": "5325370d",
   "metadata": {},
   "outputs": [],
   "source": [
    "# =================================================-\n",
    "#### Slide 24: Computing AUC  ####\n",
    "\n",
    "# Get AUC by providing the FPR and TPR.\n",
    "auc = metrics.auc(fpr, tpr)\n",
    "print(\"Area under the ROC curve: \", auc)"
   ]
  },
  {
   "cell_type": "code",
   "execution_count": null,
   "id": "84d64d44",
   "metadata": {},
   "outputs": [],
   "source": [
    "# =================================================-\n",
    "#### Slide 25: Putting it all together: ROC plot  ####\n",
    "\n",
    "# Make an ROC curve plot.\n",
    "plt.title(\"Receiver Operator Characteristic\")\n",
    "plt.plot(fpr, tpr, \"b\", label=\"AUC = %0.2f\" % auc)\n",
    "plt.legend(loc=\"lower right\")\n",
    "plt.plot([0, 1], [0, 1], \"r--\")\n",
    "plt.xlabel(\"False Positive Rate\")\n",
    "plt.ylabel(\"True Positive Rate\")\n",
    "plt.show()"
   ]
  },
  {
   "cell_type": "code",
   "execution_count": null,
   "id": "69d0e8fe",
   "metadata": {},
   "outputs": [],
   "source": [
    "# =================================================-\n",
    "#### Slide 26: Putting it all together: ROC plot (cont'd)  ####\n",
    "\n",
    "# Make an ROC curve plot.\n",
    "plt.title(\"Receiver Operator Characteristic\")\n",
    "plt.plot(fpr, tpr, \"b\", label=\"AUC = %0.2f\" % auc)\n",
    "plt.legend(loc=\"lower right\")\n",
    "plt.plot([0, 1], [0, 1], \"r--\")\n",
    "plt.xlabel(\"False Positive Rate\")\n",
    "plt.ylabel(\"True Positive Rate\")\n",
    "plt.show()\n",
    "\n",
    "\n",
    "#######################################################\n",
    "####  CONGRATULATIONS ON COMPLETING THIS MODULE!   ####\n",
    "#######################################################"
   ]
  },
  {
   "cell_type": "code",
   "execution_count": null,
   "id": "c2f54ba1",
   "metadata": {},
   "outputs": [],
   "source": [
    "#######################################################\n",
    "#######################################################\n",
    "############    COPYRIGHT - DATA SOCIETY   ############\n",
    "#######################################################\n",
    "#######################################################\n",
    "\n",
    "## INTROTONEURALNETWORKS/2 BUILDINGNEURALNETWORKS/INTROTONEURALNETWORKS BUILDINGNEURALNETWORKS 3 ##\n",
    "\n",
    "## NOTE: To run individual pieces of code, select the line of code and\n",
    "##       press ctrl + enter for PCs or command + enter for Macs"
   ]
  },
  {
   "cell_type": "code",
   "execution_count": null,
   "id": "29faee63",
   "metadata": {},
   "outputs": [],
   "source": [
    "# =================================================-\n",
    "#### Slide 12: Fitting & visualizing training history: accuracy   ####\n",
    "\n",
    "N_EPOCHS = 25  # <- number of epochs\n",
    "N_CLASSES = np.unique(y_train)  # <- number of classes in the target variable\n",
    "\n",
    "# Build neural network model by creating a classifier:\n",
    "# add the number of hidden neurons in the 1st hidden layer and set random state.\n",
    "mlp = MLPClassifier(hidden_layer_sizes=(64), random_state=1)\n",
    "\n",
    "scores_train = []  # <- we will store scores for training history here\n",
    "scores_test = []  # <- we will store scores for testing history here\n",
    "\n",
    "epoch = 0  # <- set epoch count\n",
    "while epoch < N_EPOCHS:\n",
    "    mlp_fit = mlp.partial_fit(X_train_scaled, y_train, classes=N_CLASSES)\n",
    "\n",
    "    # Compute score for train data.\n",
    "    scores_train.append(mlp.score(X_train_scaled, y_train))\n",
    "\n",
    "    # Compute score for test data.\n",
    "    scores_test.append(mlp.score(X_test_scaled, y_test))\n",
    "    epoch += 1  # <- increment the epoch"
   ]
  },
  {
   "cell_type": "code",
   "execution_count": null,
   "id": "8dac86bb",
   "metadata": {},
   "outputs": [],
   "source": [
    "# =================================================-\n",
    "#### Slide 13: Inspect model accuracy and loss  ####\n",
    "\n",
    "plt.plot(scores_train, color=\"green\", alpha=0.8, label=\"Train\")\n",
    "plt.plot(scores_test, color=\"magenta\", alpha=0.8, label=\"Test\")\n",
    "plt.title(\"Accuracy over epochs\", fontsize=14)\n",
    "plt.xlabel(\"Epochs\")\n",
    "plt.legend(loc=\"upper left\")\n",
    "plt.show()\n",
    "plt.plot(mlp.loss_curve_)\n",
    "plt.title(\"Loss over epochs\", fontsize=14)\n",
    "plt.ylabel(\"Loss\")\n",
    "plt.xlabel(\"Epochs\")\n",
    "plt.show()"
   ]
  },
  {
   "cell_type": "code",
   "execution_count": null,
   "id": "9cbfe612",
   "metadata": {},
   "outputs": [],
   "source": [
    "# =================================================-\n",
    "#### Slide 14: Inspect model accuracy and loss (cont'd)  ####\n",
    "\n",
    "plt.plot(scores_train, color=\"green\", alpha=0.8, label=\"Train\")\n",
    "plt.plot(scores_test, color=\"magenta\", alpha=0.8, label=\"Test\")\n",
    "plt.title(\"Accuracy over epochs\", fontsize=14)\n",
    "plt.xlabel(\"Epochs\")\n",
    "plt.legend(loc=\"upper left\")\n",
    "plt.show()"
   ]
  },
  {
   "cell_type": "code",
   "execution_count": null,
   "id": "14cd5f20",
   "metadata": {},
   "outputs": [],
   "source": [
    "# =================================================-\n",
    "#### Slide 17: Class-imbalanced dataset challenges  ####\n",
    "\n",
    "print(credit_card[\"default_payment_next_month\"].value_counts())"
   ]
  },
  {
   "cell_type": "code",
   "execution_count": null,
   "id": "a862ca62",
   "metadata": {},
   "outputs": [],
   "source": [
    "# =================================================-\n",
    "#### Slide 20: Balancing target with SMOTE (cont'd)  ####\n",
    "\n",
    "from imblearn.over_sampling import SMOTE\n",
    "\n",
    "# Let's initialize SMOTE object.\n",
    "smote = SMOTE()\n",
    "\n",
    "# We can now fit the sampling method to our train data and labels.\n",
    "X_train_sm, y_train_sm = smote.fit_resample(X_train_scaled, y_train)\n",
    "print(y_train_sm.value_counts())"
   ]
  },
  {
   "cell_type": "code",
   "execution_count": null,
   "id": "850acba6",
   "metadata": {},
   "outputs": [],
   "source": [
    "# =================================================-\n",
    "#### Slide 23: Exercise  ####\n",
    "\n",
    "\n",
    "#######################################################\n",
    "####  CONGRATULATIONS ON COMPLETING THIS MODULE!   ####\n",
    "#######################################################"
   ]
  }
 ],
 "metadata": {
  "kernelspec": {
   "display_name": "Python 3 (ipykernel)",
   "language": "python",
   "name": "python3"
  },
  "language": "python",
  "language_info": {
   "codemirror_mode": {
    "name": "ipython",
    "version": 3
   },
   "file_extension": ".py",
   "mimetype": "text/x-python",
   "name": "python",
   "nbconvert_exporter": "python",
   "pygments_lexer": "ipython3",
   "version": "3.11.5"
  }
 },
 "nbformat": 4,
 "nbformat_minor": 5
}
